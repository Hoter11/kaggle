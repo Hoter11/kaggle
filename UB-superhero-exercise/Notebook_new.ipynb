{
 "cells": [
  {
   "cell_type": "markdown",
   "metadata": {},
   "source": [
    "## Kaggle Superheroes Competition\n",
    "\n",
    "Team: PatataCaliente"
   ]
  },
  {
   "cell_type": "code",
   "execution_count": 112,
   "metadata": {
    "scrolled": true
   },
   "outputs": [],
   "source": [
    "# Imports\n",
    "import pandas as pd\n",
    "import numpy as np\n",
    "import random\n",
    "from sklearn.ensemble import RandomForestClassifier\n",
    "from sklearn.tree import DecisionTreeClassifier\n",
    "from imblearn.ensemble import BalancedRandomForestClassifier\n",
    "from sklearn import svm\n",
    "from sklearn import metrics\n",
    "from sklearn import model_selection\n",
    "from sklearn import preprocessing\n",
    "from sklearn.utils import resample\n",
    "import matplotlib.pyplot as plt\n",
    "from imblearn.over_sampling import RandomOverSampler\n",
    "from sklearn.naive_bayes import GaussianNB"
   ]
  },
  {
   "cell_type": "code",
   "execution_count": 113,
   "metadata": {},
   "outputs": [],
   "source": [
    "#pip install imblearn --user"
   ]
  },
  {
   "cell_type": "code",
   "execution_count": 114,
   "metadata": {},
   "outputs": [],
   "source": [
    "# Read datasets\n",
    "train = pd.read_csv('train.csv')\n",
    "test = pd.read_csv('test.csv')"
   ]
  },
  {
   "cell_type": "code",
   "execution_count": 115,
   "metadata": {},
   "outputs": [],
   "source": [
    "eye_colors = ['brown', 'blue', 'green', 'black', 'white', 'amber', 'red',\n",
    "              'grey', 'hazel', 'yellow', 'purple', 'gold', 'violet', 'silver', 'other']\n",
    "races = ['yautja', 'human', 'asgardian', 'mutant', 'cosmic', 'alpha',\n",
    "         'animal', 'zombie', 'alien', \"yoda's species\", 'kryptonian', 'bizarro'\n",
    "         'vampire', 'vuldarian', 'android', 'god', 'eternal', 'atlantean',\n",
    "         'radiation', 'demon','cyborg', 'inhuman', 'korugaran', 'amazon',\n",
    "         'symbiote', 'talokite', 'metahuman', 'altered', 'cosmic',\n",
    "         'dathomirian zabrak', 'rodian', 'gungan', 'new God', 'neyaphem', 'kree',\n",
    "         'demi-god', 'flora colossus', 'ungaran', 'gorilla', 'clone',\n",
    "         'zen', 'whoberian', 'luphomoid', 'icthyo sapien', 'tamaranean', 'spartoi', 'other']\n",
    "hair_colors = ['brown', 'blond', 'red', 'black', 'auburn', 'no hair',\n",
    "               'white', 'green', 'grey', 'orange', 'purple', 'blue',\n",
    "               'magenta', 'pink', 'gold', 'silver', 'other']\n",
    "skin_colors = ['gold', 'silver', 'green', 'white', 'blue', 'red', 'pink',\n",
    "               'black', 'grey', 'orange', 'purple', 'yellow', 'other']"
   ]
  },
  {
   "cell_type": "markdown",
   "metadata": {},
   "source": [
    "### Feature Engineering"
   ]
  },
  {
   "cell_type": "code",
   "execution_count": 116,
   "metadata": {},
   "outputs": [],
   "source": [
    "def generate_dummies(df):\n",
    "    for col in df.columns:\n",
    "        if df[col].dtype == np.object and col != 'Alignment':\n",
    "            dummies = pd.get_dummies(df[col], prefix=col)\n",
    "            df = df.join(dummies)\n",
    "            df = df.drop(col, axis=1)\n",
    "            \n",
    "    return df\n",
    "\n",
    "def clean_weight_height(train, test):\n",
    "    cols = ['Race', 'Gender']\n",
    "    #print(train.groupby(cols)['Weight'].mean())\n",
    "\n",
    "    weight_median = train[train['Weight'] >= 0].groupby(cols).Weight.median()\n",
    "    height_median = train[train['Height'] >= 0].groupby(cols).Height.median()\n",
    "    \n",
    "    train = sub(train, weight_median, 'Weight')\n",
    "    train = sub(train, height_median, 'Height')\n",
    "    test = sub(test, weight_median, 'Weight')\n",
    "    test = sub(test, height_median, 'Height')\n",
    "    \n",
    "    #print(train.groupby(cols)['Weight'].mean())\n",
    "    \n",
    "    return train, test\n",
    "    \n",
    "def sub(df, median_groupby, col):\n",
    "    cols = ['Race', 'Gender']\n",
    "    df_w = df[df[col] < 0]\n",
    "    df = df[df[col] >= 0]\n",
    "    if col == 'Weight':\n",
    "        df_w = df_w.assign(Weight=df_w.set_index(cols).index.map(median_groupby))\n",
    "    else:\n",
    "        df_w = df_w.assign(Height=df_w.set_index(cols).index.map(median_groupby))\n",
    "    df_w[col] = df_w[col].fillna(-99)\n",
    "    df = pd.concat([df, df_w])\n",
    "    return df.sort_index()\n",
    "\n",
    "def add_columns(df, columns):\n",
    "    # Add non existing columns\n",
    "    for col in columns:\n",
    "        if col not in df.columns:\n",
    "            df[col] = 0\n",
    "    \n",
    "    # Remove extra columns\n",
    "    for col in df.columns:\n",
    "        if col not in columns:\n",
    "            df = df.drop(col, axis=1)\n",
    "    return df"
   ]
  },
  {
   "cell_type": "code",
   "execution_count": 117,
   "metadata": {},
   "outputs": [],
   "source": [
    "def clean_data(df):\n",
    "    \"\"\"\n",
    "    General feature engineering function.\n",
    "    \n",
    "    Args:\n",
    "        df -> pandas dataframe\n",
    "    \"\"\"\n",
    "    columns = df.columns\n",
    "    for col in columns:\n",
    "        if df[col].dtype == np.bool:\n",
    "            df[col].fillna(False, inplace=True)\n",
    "            df[col] = df[col].astype(int)\n",
    "        elif df[col].dtype == np.float64:\n",
    "            df[col].fillna(-99, inplace=True)\n",
    "        elif df[col].dtype == np.object and col != 'Alignment':\n",
    "            df[col].fillna('', inplace=True)\n",
    "    \n",
    "    # Eye color clean\n",
    "    for color in eye_colors:\n",
    "        df['Eye color ' + color] = 0\n",
    "        df.loc[df['Eye color'].str.contains(color), 'Eye color ' + color] = 1\n",
    "    df.loc[df[['Eye color ' + color for color in eye_colors]].sum(axis=1) == 0, 'Eye color other'] = 1\n",
    "    df.drop('Eye color', axis=1, inplace=True)\n",
    "    \n",
    "    # Race clean\n",
    "    for race in races:\n",
    "        df['Race ' + race] = 0\n",
    "        df.loc[df['Race'].str.contains(race), 'Race ' + color] = 1\n",
    "    df.loc[df[['Race ' + race for race in races]].sum(axis=1) == 0, 'Race other'] = 1\n",
    "    df.drop('Race', axis=1, inplace=True)\n",
    "\n",
    "    # Hair color clean\n",
    "    for color in hair_colors:\n",
    "        df['Hair color ' + color] = 0\n",
    "        df.loc[df['Hair color'].str.contains(color), 'Hair color ' + color] = 1\n",
    "    df.loc[df[['Hair color ' + color for color in hair_colors]].sum(axis=1) == 0, 'Hair color other'] = 1\n",
    "    df.drop('Hair color', axis=1, inplace=True)\n",
    "    \n",
    "    # Skin color clean\n",
    "    for color in skin_colors:\n",
    "        df['Skin color ' + color] = 0\n",
    "        df.loc[df['Skin color'].str.contains(color), 'Skin color ' + color] = 1\n",
    "    df.loc[df[['Skin color ' + color for color in skin_colors]].sum(axis=1) == 0, 'Skin color other'] = 1\n",
    "    df.drop('Skin color', axis=1, inplace=True)\n",
    "\n",
    "    return df"
   ]
  },
  {
   "cell_type": "code",
   "execution_count": 118,
   "metadata": {},
   "outputs": [],
   "source": [
    "# Infer weight and height\n",
    "#train_clean, test_clean = clean_weight_height(train, test)\n",
    "\n",
    "train_clean = clean_data(train)\n",
    "test_clean = clean_data(test)\n",
    "\n",
    "train_clean = generate_dummies(train_clean)\n",
    "test_clean = generate_dummies(test_clean)\n",
    "\n",
    "# Drop ID column\n",
    "train_clean = train_clean.drop('Id', axis=1)\n",
    "test_id = test_clean['Id']\n",
    "test_clean = test_clean.drop('Id', axis=1)"
   ]
  },
  {
   "cell_type": "code",
   "execution_count": 119,
   "metadata": {},
   "outputs": [
    {
     "data": {
      "text/plain": [
       "\"threshold = 0.2\\nfor col in train_clean.columns:\\n    if train_clean[col].dtype == np.bool:\\n        i, j = train_clean[col].value_counts()\\n        if j < (i + j) * threshold or i < (i + j) * threshold:\\n            train_clean.drop(col, axis=1, inplace=True)\\n            print('Dropped column: ', col)\""
      ]
     },
     "execution_count": 119,
     "metadata": {},
     "output_type": "execute_result"
    }
   ],
   "source": [
    "# Remove boolean columns that are to imbalanced\n",
    "\"\"\"threshold = 0.2\n",
    "for col in train_clean.columns:\n",
    "    if train_clean[col].dtype == np.bool:\n",
    "        i, j = train_clean[col].value_counts()\n",
    "        if j < (i + j) * threshold or i < (i + j) * threshold:\n",
    "            train_clean.drop(col, axis=1, inplace=True)\n",
    "            print('Dropped column: ', col)\"\"\""
   ]
  },
  {
   "cell_type": "code",
   "execution_count": 120,
   "metadata": {},
   "outputs": [],
   "source": [
    "# Final dataframes for training\n",
    "y = train_clean['Alignment']\n",
    "X = train_clean.drop('Alignment', axis=1)\n",
    "\n",
    "test_clean = add_columns(test_clean, X.columns)\n",
    "\n",
    "# Reorder columns to have same order on train and test\n",
    "train_clean = train_clean.reindex(sorted(train_clean.columns), axis=1)\n",
    "test_clean = test_clean.reindex(sorted(test_clean.columns), axis=1)\n",
    "\n",
    "# Make sure we have the same columns for train and test\n",
    "assert set(train_clean.drop('Alignment', axis=1).columns) == set(test_clean.columns)"
   ]
  },
  {
   "cell_type": "code",
   "execution_count": 45,
   "metadata": {},
   "outputs": [
    {
     "data": {
      "text/plain": [
       "good       262\n",
       "bad        262\n",
       "neutral     18\n",
       "Name: Alignment, dtype: int64"
      ]
     },
     "execution_count": 45,
     "metadata": {},
     "output_type": "execute_result"
    }
   ],
   "source": [
    "# Upsampling\n",
    "ros = RandomOverSampler(random_state=0)\n",
    "X_neutral, y_neutral = X[y == 'neutral'], y[y == 'neutral']\n",
    "X_res, y_res = X[y != 'neutral'], y[y != 'neutral']\n",
    "\n",
    "X_res, y_res = ros.fit_resample(X_res, y_res)\n",
    "X = pd.concat([X_res, X_neutral]).sort_index()\n",
    "y = pd.concat([y_res, y_neutral]).sort_index()\n",
    "y.value_counts()"
   ]
  },
  {
   "cell_type": "code",
   "execution_count": 121,
   "metadata": {},
   "outputs": [],
   "source": [
    "## Normalize data\n",
    "scaler = preprocessing.MinMaxScaler()\n",
    "X[['Weight', 'Height']] = scaler.fit_transform(X[['Weight', 'Height']])\n",
    "test_clean[['Weight', 'Height']] = scaler.transform(test_clean[['Weight', 'Height']])"
   ]
  },
  {
   "cell_type": "code",
   "execution_count": 122,
   "metadata": {},
   "outputs": [
    {
     "data": {
      "text/plain": [
       "PCA(copy=True, iterated_power='auto', n_components=100, random_state=None,\n",
       "    svd_solver='auto', tol=0.95, whiten=False)"
      ]
     },
     "execution_count": 122,
     "metadata": {},
     "output_type": "execute_result"
    }
   ],
   "source": [
    "# Do the PCA decomposition!\n",
    "from sklearn.decomposition import PCA\n",
    "\n",
    "pca = PCA(tol=.95, n_components=100)\n",
    "pca.fit(X)\n",
    "\n",
    "#X = pca.transform(X) #concatenates vectors row by row\n",
    "#test_clean = pca.transform(test_clean)"
   ]
  },
  {
   "cell_type": "code",
   "execution_count": 123,
   "metadata": {},
   "outputs": [],
   "source": [
    "models = {'RFC-1': RandomForestClassifier(n_estimators=100, class_weight='balanced'),\n",
    "          'RFC-2': RandomForestClassifier(n_estimators=200, class_weight='balanced'),\n",
    "          'RFC-3': RandomForestClassifier(n_estimators=30, class_weight='balanced'),\n",
    "          'DTC-8': DecisionTreeClassifier(min_samples_leaf=1, max_depth=14),\n",
    "          'DTC-9': DecisionTreeClassifier(min_samples_leaf=1, max_depth=16),\n",
    "          'DTC-10': DecisionTreeClassifier(min_samples_leaf=1, max_depth=20),\n",
    "          'SVC-1': svm.LinearSVC()}\n",
    "\n",
    "num_folds = 10\n",
    "kf = model_selection.KFold(n_splits=num_folds, shuffle=True, random_state=0)\n",
    "kf.get_n_splits()\n",
    "acc = np.zeros((num_folds, len(models)))\n",
    "\n",
    "if type(X) != type(np.zeros((10,10))):\n",
    "    X = X.to_numpy()\n",
    "if type(y) != type(np.zeros((10,10))):\n",
    "    y = y.to_numpy()\n",
    "\n",
    "X_t, X_test, y_t, y_test = model_selection.train_test_split(X, y, test_size=0.2, random_state=42)\n",
    "for i, index in enumerate(kf.split(X_t)):\n",
    "    train_index, val_index = index\n",
    "    X_train, X_val = X_t[train_index], X_t[val_index]\n",
    "    y_train, y_val = y_t[train_index], y_t[val_index] \n",
    "\n",
    "    models_list = models.values()\n",
    "    fits = [model.fit(X_train, y_train) for model in models_list]\n",
    "    predicts = [model.predict(X_val) for model in models_list]\n",
    "    for j, prediction in enumerate(predicts):\n",
    "        acc[i][j] = metrics.accuracy_score(prediction, y_val)"
   ]
  },
  {
   "cell_type": "code",
   "execution_count": 124,
   "metadata": {},
   "outputs": [
    {
     "data": {
      "image/png": "[encoded data removed]",
      "text/plain": [
       "<Figure size 720x540 with 1 Axes>"
      ]
     },
     "metadata": {
      "needs_background": "light"
     },
     "output_type": "display_data"
    }
   ],
   "source": [
    "# Plot models performance\n",
    "plt.figure(figsize=(10, 7.5))\n",
    "plt.boxplot(acc)\n",
    "plt.title(' K-fold Cross Validation accuracy')\n",
    "for i in range(len(models)):\n",
    "    xderiv = (i+1)*np.ones(acc[:,i].shape)+(np.random.rand(10,)-0.5)*0.1\n",
    "    plt.plot(xderiv,acc[:,i],'ro',alpha=0.3)\n",
    "    \n",
    "ax = plt.gca()\n",
    "ax.set_xticklabels(models.keys())\n",
    "pass"
   ]
  },
  {
   "cell_type": "code",
   "execution_count": 134,
   "metadata": {},
   "outputs": [
    {
     "data": {
      "image/png": "[encoded data removed]",
      "text/plain": [
       "<Figure size 720x540 with 1 Axes>"
      ]
     },
     "metadata": {
      "needs_background": "light"
     },
     "output_type": "display_data"
    }
   ],
   "source": [
    "# Plot models performance\n",
    "test_acc = np.zeros((1,len(models)))\n",
    "for i, model in enumerate(models.values()):\n",
    "    model.fit(X_t, y_t)\n",
    "    predict = model.predict(X_test)\n",
    "    test_acc[0][i] = metrics.accuracy_score(predict, y_test)\n",
    "\n",
    "plt.figure(figsize=(10, 7.5))\n",
    "plt.boxplot(test_acc)\n",
    "plt.title('Test accuracy')\n",
    "    \n",
    "ax = plt.gca()\n",
    "ax.set_xticklabels(models.keys())\n",
    "pass"
   ]
  },
  {
   "cell_type": "code",
   "execution_count": 126,
   "metadata": {},
   "outputs": [
    {
     "name": "stdout",
     "output_type": "stream",
     "text": [
      "classification accuracy: 0.6329113924050633\n"
     ]
    },
    {
     "data": {
      "image/png": "[encoded data removed]",
      "text/plain": [
       "<Figure size 432x288 with 2 Axes>"
      ]
     },
     "metadata": {
      "needs_background": "light"
     },
     "output_type": "display_data"
    }
   ],
   "source": [
    "# Confusion matrix on test data\n",
    "from sklearn import metrics\n",
    "\n",
    "model = models['DTC-10']\n",
    "model.fit(X_t, y_t)\n",
    "y_pred = model.predict(X_test)\n",
    "\n",
    "def plot_confusion_matrix(y, y_pred):\n",
    "    plt.imshow(metrics.confusion_matrix(y, y_pred, labels=['good', 'bad', 'neutral']),\n",
    "               interpolation='nearest',\n",
    "               cmap=plt.cm.gray)\n",
    "    plt.colorbar()\n",
    "    tick_marks = np.arange(3)\n",
    "    classes = ['good', 'bad', 'neutral']\n",
    "    plt.xticks(tick_marks, classes, rotation=45)\n",
    "    plt.yticks(tick_marks, classes)\n",
    "    plt.ylabel('true value')\n",
    "    plt.xlabel('predicted value')\n",
    "\n",
    "print (\"classification accuracy:\", metrics.accuracy_score(y_test, y_pred))\n",
    "plot_confusion_matrix(y_test, y_pred)"
   ]
  },
  {
   "cell_type": "code",
   "execution_count": 127,
   "metadata": {},
   "outputs": [],
   "source": [
    "# Results on test data\n",
    "model = models['DTC-10'] # Choose best model\n",
    "model.fit(X, y)\n",
    "\n",
    "predict = model.predict(test_clean)\n",
    "\n",
    "df = pd.concat([test_id, pd.Series(predict)], axis=1)\n",
    "df = df.rename({0: 'Prediction'}, axis='columns')\n",
    "df.to_csv('final.csv', index=False, header=True)"
   ]
  },
  {
   "cell_type": "code",
   "execution_count": 128,
   "metadata": {},
   "outputs": [
    {
     "data": {
      "text/plain": [
       "bad        125\n",
       "good        88\n",
       "neutral     49\n",
       "Name: Prediction, dtype: int64"
      ]
     },
     "execution_count": 128,
     "metadata": {},
     "output_type": "execute_result"
    },
    {
     "data": {
      "image/png": "[encoded data removed]",
      "text/plain": [
       "<Figure size 540x540 with 1 Axes>"
      ]
     },
     "metadata": {},
     "output_type": "display_data"
    }
   ],
   "source": [
    "df.Prediction.value_counts().plot(kind='pie', autopct='%1.0f%%', figsize=(7.5, 7.5))\n",
    "df.Prediction.value_counts()"
   ]
  },
  {
   "cell_type": "code",
   "execution_count": 129,
   "metadata": {},
   "outputs": [
    {
     "data": {
      "text/html": [
       "<div>\n",
       "<style scoped>\n",
       "    .dataframe tbody tr th:only-of-type {\n",
       "        vertical-align: middle;\n",
       "    }\n",
       "\n",
       "    .dataframe tbody tr th {\n",
       "        vertical-align: top;\n",
       "    }\n",
       "\n",
       "    .dataframe thead th {\n",
       "        text-align: right;\n",
       "    }\n",
       "</style>\n",
       "<table border=\"1\" class=\"dataframe\">\n",
       "  <thead>\n",
       "    <tr style=\"text-align: right;\">\n",
       "      <th></th>\n",
       "      <th>Accelerated Healing</th>\n",
       "      <th>Adaptation</th>\n",
       "      <th>Agility</th>\n",
       "      <th>Animal Attributes</th>\n",
       "      <th>Animal Control</th>\n",
       "      <th>Animal Oriented Powers</th>\n",
       "      <th>Animation</th>\n",
       "      <th>Anti-Gravity</th>\n",
       "      <th>Astral Projection</th>\n",
       "      <th>Astral Travel</th>\n",
       "      <th>...</th>\n",
       "      <th>Vision - X-Ray</th>\n",
       "      <th>Vitakinesis</th>\n",
       "      <th>Wallcrawling</th>\n",
       "      <th>Water Control</th>\n",
       "      <th>Weapon-based Powers</th>\n",
       "      <th>Weapons Master</th>\n",
       "      <th>Weather Control</th>\n",
       "      <th>Web Creation</th>\n",
       "      <th>Weight</th>\n",
       "      <th>Wind Control</th>\n",
       "    </tr>\n",
       "  </thead>\n",
       "  <tbody>\n",
       "    <tr>\n",
       "      <th>0</th>\n",
       "      <td>0</td>\n",
       "      <td>0</td>\n",
       "      <td>0</td>\n",
       "      <td>0</td>\n",
       "      <td>0</td>\n",
       "      <td>0</td>\n",
       "      <td>0</td>\n",
       "      <td>0</td>\n",
       "      <td>0</td>\n",
       "      <td>0</td>\n",
       "      <td>...</td>\n",
       "      <td>0</td>\n",
       "      <td>0</td>\n",
       "      <td>0</td>\n",
       "      <td>0</td>\n",
       "      <td>0</td>\n",
       "      <td>0</td>\n",
       "      <td>0</td>\n",
       "      <td>0</td>\n",
       "      <td>0.000000</td>\n",
       "      <td>0</td>\n",
       "    </tr>\n",
       "    <tr>\n",
       "      <th>1</th>\n",
       "      <td>0</td>\n",
       "      <td>0</td>\n",
       "      <td>0</td>\n",
       "      <td>0</td>\n",
       "      <td>0</td>\n",
       "      <td>0</td>\n",
       "      <td>0</td>\n",
       "      <td>0</td>\n",
       "      <td>0</td>\n",
       "      <td>0</td>\n",
       "      <td>...</td>\n",
       "      <td>0</td>\n",
       "      <td>0</td>\n",
       "      <td>0</td>\n",
       "      <td>0</td>\n",
       "      <td>0</td>\n",
       "      <td>0</td>\n",
       "      <td>0</td>\n",
       "      <td>0</td>\n",
       "      <td>0.196017</td>\n",
       "      <td>0</td>\n",
       "    </tr>\n",
       "    <tr>\n",
       "      <th>2</th>\n",
       "      <td>0</td>\n",
       "      <td>0</td>\n",
       "      <td>0</td>\n",
       "      <td>0</td>\n",
       "      <td>0</td>\n",
       "      <td>0</td>\n",
       "      <td>0</td>\n",
       "      <td>0</td>\n",
       "      <td>0</td>\n",
       "      <td>0</td>\n",
       "      <td>...</td>\n",
       "      <td>0</td>\n",
       "      <td>0</td>\n",
       "      <td>0</td>\n",
       "      <td>0</td>\n",
       "      <td>0</td>\n",
       "      <td>0</td>\n",
       "      <td>1</td>\n",
       "      <td>0</td>\n",
       "      <td>0.163522</td>\n",
       "      <td>0</td>\n",
       "    </tr>\n",
       "    <tr>\n",
       "      <th>3</th>\n",
       "      <td>1</td>\n",
       "      <td>0</td>\n",
       "      <td>1</td>\n",
       "      <td>0</td>\n",
       "      <td>0</td>\n",
       "      <td>0</td>\n",
       "      <td>0</td>\n",
       "      <td>0</td>\n",
       "      <td>0</td>\n",
       "      <td>0</td>\n",
       "      <td>...</td>\n",
       "      <td>0</td>\n",
       "      <td>0</td>\n",
       "      <td>0</td>\n",
       "      <td>0</td>\n",
       "      <td>0</td>\n",
       "      <td>0</td>\n",
       "      <td>0</td>\n",
       "      <td>0</td>\n",
       "      <td>0.169811</td>\n",
       "      <td>0</td>\n",
       "    </tr>\n",
       "    <tr>\n",
       "      <th>4</th>\n",
       "      <td>1</td>\n",
       "      <td>0</td>\n",
       "      <td>0</td>\n",
       "      <td>0</td>\n",
       "      <td>0</td>\n",
       "      <td>0</td>\n",
       "      <td>0</td>\n",
       "      <td>0</td>\n",
       "      <td>0</td>\n",
       "      <td>0</td>\n",
       "      <td>...</td>\n",
       "      <td>0</td>\n",
       "      <td>0</td>\n",
       "      <td>0</td>\n",
       "      <td>0</td>\n",
       "      <td>0</td>\n",
       "      <td>0</td>\n",
       "      <td>0</td>\n",
       "      <td>0</td>\n",
       "      <td>0.443396</td>\n",
       "      <td>0</td>\n",
       "    </tr>\n",
       "  </tbody>\n",
       "</table>\n",
       "<p>5 rows × 280 columns</p>\n",
       "</div>"
      ],
      "text/plain": [
       "   Accelerated Healing  Adaptation  Agility  Animal Attributes  \\\n",
       "0                    0           0        0                  0   \n",
       "1                    0           0        0                  0   \n",
       "2                    0           0        0                  0   \n",
       "3                    1           0        1                  0   \n",
       "4                    1           0        0                  0   \n",
       "\n",
       "   Animal Control  Animal Oriented Powers  Animation  Anti-Gravity  \\\n",
       "0               0                       0          0             0   \n",
       "1               0                       0          0             0   \n",
       "2               0                       0          0             0   \n",
       "3               0                       0          0             0   \n",
       "4               0                       0          0             0   \n",
       "\n",
       "   Astral Projection  Astral Travel  ...  Vision - X-Ray  Vitakinesis  \\\n",
       "0                  0              0  ...               0            0   \n",
       "1                  0              0  ...               0            0   \n",
       "2                  0              0  ...               0            0   \n",
       "3                  0              0  ...               0            0   \n",
       "4                  0              0  ...               0            0   \n",
       "\n",
       "   Wallcrawling  Water Control  Weapon-based Powers  Weapons Master  \\\n",
       "0             0              0                    0               0   \n",
       "1             0              0                    0               0   \n",
       "2             0              0                    0               0   \n",
       "3             0              0                    0               0   \n",
       "4             0              0                    0               0   \n",
       "\n",
       "   Weather Control  Web Creation    Weight  Wind Control  \n",
       "0                0             0  0.000000             0  \n",
       "1                0             0  0.196017             0  \n",
       "2                1             0  0.163522             0  \n",
       "3                0             0  0.169811             0  \n",
       "4                0             0  0.443396             0  \n",
       "\n",
       "[5 rows x 280 columns]"
      ]
     },
     "execution_count": 129,
     "metadata": {},
     "output_type": "execute_result"
    }
   ],
   "source": [
    "test_clean.head()"
   ]
  },
  {
   "cell_type": "code",
   "execution_count": null,
   "metadata": {},
   "outputs": [],
   "source": []
  }
 ],
 "metadata": {
  "kernelspec": {
   "display_name": "Python 3",
   "language": "python",
   "name": "python3"
  },
  "language_info": {
   "codemirror_mode": {
    "name": "ipython",
    "version": 3
   },
   "file_extension": ".py",
   "mimetype": "text/x-python",
   "name": "python",
   "nbconvert_exporter": "python",
   "pygments_lexer": "ipython3",
   "version": "3.6.9"
  }
 },
 "nbformat": 4,
 "nbformat_minor": 2
}
